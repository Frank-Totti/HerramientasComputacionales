{
  "nbformat": 4,
  "nbformat_minor": 0,
  "metadata": {
    "colab": {
      "name": "CalculoIntegral-IDatos.ipynb",
      "provenance": [],
      "collapsed_sections": [],
      "authorship_tag": "ABX9TyNlZwezoD7uJ3SUIlACDLL/",
      "include_colab_link": true
    },
    "kernelspec": {
      "name": "python3",
      "display_name": "Python 3"
    },
    "language_info": {
      "name": "python"
    }
  },
  "cells": [
    {
      "cell_type": "markdown",
      "metadata": {
        "id": "view-in-github",
        "colab_type": "text"
      },
      "source": [
        "<a href=\"https://colab.research.google.com/github/Frank-Totti/HerramientasComputacionales/blob/main/CalculoIntegral_IDatos.ipynb\" target=\"_parent\"><img src=\"https://colab.research.google.com/assets/colab-badge.svg\" alt=\"Open In Colab\"/></a>"
      ]
    },
    {
      "cell_type": "markdown",
      "source": [
        "# Introducción a calculo Integral en Python \n",
        "# ingieneria de Datos y Computación cientifica (*Teorema fundamental del calculo*)\n",
        "---\n",
        "Leyes como, **el teorema de Simpson**, o la **sumatoria de Riemman** permiten aproximar al menos los primeros diez digitos decimales de una integral, no obstante, sigue siendo una aproximación. así pues, el teorema fundamental del calculo nos explica que, al integrar una función y realizar la diferencia de la evaluación de la función integrada entre los limites o el intervalo resulta el área bajo la curva.\n",
        "\n",
        "//Ejemplo de formula a la derecha : \n",
        "\n",
        " * $a^2 + b^2 = c^2$\n",
        "\n",
        "//Ejemplo de la formula centrada : \n",
        "\n",
        "* $$a^2 + b^2 = c^2$$\n",
        "\n",
        "//Subindices :\n",
        "\n",
        "* $$a_i+b_i = c_{i,j}$$\n",
        "\n",
        "//Subindices y Exponentes :\n",
        "\n",
        "* $$a_i ^2 + b_i^2 = c_{i,j}^{2+k}$$\n",
        "\n",
        "//Letras griegas :\n",
        "\n",
        "* $$\\alpha = (\\beta+\\gamma_2)(\\Pi^3 - cos(x+\\phi_i ))$$\n",
        "\n",
        "//Sumatorias :\n",
        "\n",
        "* $$\\sum_{i = 1}^{n-1} f(x_i)\\Delta x_i$$\n",
        "\n",
        "//infinito:\n",
        "\n",
        "* $$\\infty $$\n",
        "\n",
        "//Limites:\n",
        "\n",
        "* $$\\lim_{x \\to 3 } x^2$$\n",
        "\n",
        "//integrales:\n",
        "\n",
        "* $$\\int_0^4 x^3 dx $$\n",
        "\n",
        "//Suma de Rieeman :\n",
        "\n",
        "* $$\\lim_{n \\to \\infty} \\sum_{i = 1}^{n} f(x_i)\\Delta x = \\int_a^b f(x) dx $$\n",
        "\n",
        "--- \n",
        "\n",
        "### Enlaces de los teoremas y aproximaciones\n",
        "\n",
        "[Suma de Riemman](https://www.youtube.com/watch?v=ZSjzuFpBoCo&ab_channel=MateFacil)\n",
        "\n",
        "[Teorema o ley de Simpson](https://www.youtube.com/watch?v=cH93CpBZB6Y&t=229s&ab_channel=Matem%C3%A1ticasconGrajeda)"
      ],
      "metadata": {
        "id": "trGUP0ITx2vd"
      }
    },
    {
      "cell_type": "code",
      "source": [
        ""
      ],
      "metadata": {
        "id": "jk1C4bBowlaF"
      },
      "execution_count": null,
      "outputs": []
    }
  ]
}